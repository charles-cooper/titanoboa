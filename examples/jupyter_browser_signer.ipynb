{
 "cells": [
  {
   "cell_type": "code",
   "execution_count": 1,
   "id": "94744db8",
   "metadata": {},
   "outputs": [],
   "source": [
    "import boa; from boa.network import NetworkEnv"
   ]
  },
  {
   "cell_type": "code",
   "execution_count": 2,
   "id": "ff9dfb06",
   "metadata": {},
   "outputs": [],
   "source": [
    "%load_ext boa.ipython"
   ]
  },
  {
   "cell_type": "code",
   "execution_count": 3,
   "id": "9f241bf5",
   "metadata": {},
   "outputs": [
    {
     "data": {
      "application/javascript": [
       "\n",
       "require.config({\n",
       "    paths: {\n",
       "        //ethers: \"https://cdnjs.cloudflare.com/ajax/libs/ethers/5.7.2/ethers.umd.min\"\n",
       "        ethers: \"https://cdnjs.cloudflare.com/ajax/libs/ethers/6.4.2/ethers.umd.min\"\n",
       "    }\n",
       "});\n",
       "\n",
       "require(['ethers'], function(ethers) {\n",
       "    // Initialize ethers\n",
       "    let provider = new ethers.BrowserProvider(window.ethereum);\n",
       "\n",
       "    // check that we have a signer for this account\n",
       "    Jupyter.notebook.kernel.comm_manager.register_target('get_signer', function(c, msg) {\n",
       "        // console.log(\"get_signer created\", c)\n",
       "        c.on_msg(function(msg) {\n",
       "            // console.log(\"get_signer called\", c)\n",
       "            let account = msg.content.data.account\n",
       "            provider.getSigner(account).then(signer => {\n",
       "                // console.log(\"success\", signer)\n",
       "                c.send({\"success\": signer});\n",
       "            }).catch(function(error) {\n",
       "                console.error(\"got error, percolating up:\", error);\n",
       "                c.send({\"error\": error});\n",
       "            });\n",
       "        });\n",
       "    });\n",
       "\n",
       "    Jupyter.notebook.kernel.comm_manager.register_target(\"send_transaction\", function(c, msg) {\n",
       "        c.on_msg(function(msg) {\n",
       "            let tx_data = msg.content.data.transaction_data;\n",
       "            let account = msg.content.data.account\n",
       "            provider.getSigner(account).then(signer => {\n",
       "                signer.sendTransaction(tx_data).then(response => {\n",
       "                    console.log(response);\n",
       "                    c.send({\"success\": response});\n",
       "                }).catch(function(error) {\n",
       "                    console.error(\"got error, percolating up:\", error);\n",
       "                    c.send({\"error\": error});\n",
       "                });\n",
       "            }).catch(function(error) {\n",
       "                console.error(\"got error, percolating up:\", error);\n",
       "                c.send({\"error\": error});\n",
       "            });\n",
       "        });\n",
       "    });\n",
       "});\n",
       "\n",
       "Jupyter.notebook.kernel.comm_manager.register_target(\"test_comm\", function(comm, msg) {\n",
       "    console.log(\"ENTER\", comm);\n",
       "    /*comm.on_close(function(msg) {\n",
       "        console.log(\"CLOSING\", msg);\n",
       "    });\n",
       "    */\n",
       "\n",
       "    comm.on_msg(function(msg) {\n",
       "        console.log(\"ENTER 2\", comm);\n",
       "        console.log(\"ENTER 3\", msg.content.data);\n",
       "        setTimeout(() => {\n",
       "            comm.send({\"success\": \"hello\", \"echo\": msg.content.data});\n",
       "            comm.close();\n",
       "            console.log(comm);\n",
       "        }, 350);\n",
       "    });\n",
       "});\n"
      ],
      "text/plain": [
       "<IPython.core.display.Javascript object>"
      ]
     },
     "metadata": {},
     "output_type": "display_data"
    }
   ],
   "source": [
    "from boa.integrations.jupyter import BrowserSigner"
   ]
  },
  {
   "cell_type": "code",
   "execution_count": 4,
   "id": "814ff4f3",
   "metadata": {},
   "outputs": [],
   "source": [
    "boa.set_env(NetworkEnv(\"<rpc server address, e.g. an alchemy endpoint>\"))"
   ]
  },
  {
   "cell_type": "code",
   "execution_count": 5,
   "id": "a24872c9",
   "metadata": {},
   "outputs": [],
   "source": [
    "boa.env.add_account(BrowserSigner())"
   ]
  },
  {
   "cell_type": "code",
   "execution_count": 6,
   "id": "1e98969d",
   "metadata": {},
   "outputs": [
    {
     "data": {
      "text/plain": [
       "<boa.vyper.contract.VyperDeployer at 0x7f5150614a90>"
      ]
     },
     "execution_count": 6,
     "metadata": {},
     "output_type": "execute_result"
    }
   ],
   "source": [
    "%%vyper MyContract\n",
    "\n",
    "totalSupply: uint256\n",
    "balances: HashMap[address, uint256]\n",
    "\n",
    "@external\n",
    "def __init__(t: uint256):\n",
    "    self.totalSupply = t\n",
    "    self.balances[self] = t"
   ]
  },
  {
   "cell_type": "code",
   "execution_count": 7,
   "id": "c5b60ed3",
   "metadata": {},
   "outputs": [
    {
     "name": "stdout",
     "output_type": "stream",
     "text": [
      "tx broadcasted: 0x...<truncated>\n",
      "0x...<truncated> mined in block 0x...<truncated>!\n",
      "contract deployed at 0x...<truncated>\n"
     ]
    }
   ],
   "source": [
    "c = MyContract.deploy(1000)"
   ]
  },
  {
   "cell_type": "code",
   "execution_count": 8,
   "id": "bdbfc09c",
   "metadata": {},
   "outputs": [
    {
     "data": {
      "text/plain": [
       "<MyContract at 0x...<truncated>, compiled with vyper-0.3.9+66b9670>\n",
       "<storage: totalSupply=1000, balances={'0x...<truncated>': 1000}>"
      ]
     },
     "execution_count": 8,
     "metadata": {},
     "output_type": "execute_result"
    }
   ],
   "source": [
    "c"
   ]
  }
 ],
 "metadata": {
  "kernelspec": {
   "display_name": "Python 3 (ipykernel)",
   "language": "python",
   "name": "python3"
  },
  "language_info": {
   "codemirror_mode": {
    "name": "ipython",
    "version": 3
   },
   "file_extension": ".py",
   "mimetype": "text/x-python",
   "name": "python",
   "nbconvert_exporter": "python",
   "pygments_lexer": "ipython3",
   "version": "3.11.4"
  }
 },
 "nbformat": 4,
 "nbformat_minor": 5
}
